{
 "cells": [
  {
   "cell_type": "code",
   "execution_count": 0,
   "metadata": {
    "application/vnd.databricks.v1+cell": {
     "cellMetadata": {
      "byteLimit": 2048000,
      "rowLimit": 10000
     },
     "inputWidgets": {},
     "nuid": "5dd7e75f-4035-43c2-b03f-e70feacbb1d3",
     "showTitle": false,
     "tableResultSettingsMap": {},
     "title": ""
    }
   },
   "outputs": [],
   "source": [
    "options = {\n",
    "    \"sfURL\": \"sb81969.me-central2.gcp.snowflakecomputing.com\",\n",
    "    \"sfDatabase\": \"TRAINING_DB\",   \n",
    "    \"sfSchema\": \"RAW\",             \n",
    "    \"sfWarehouse\": \"COMPUTE_WH\",  \n",
    "    \"sfRole\": \"SYSADMIN\",          \n",
    "    \"sfUser\": \"yuvasri310\",   \n",
    "    \"sfPassword\": \"Yuvasri3102004\"\n",
    "}\n"
   ]
  },
  {
   "cell_type": "code",
   "execution_count": 0,
   "metadata": {
    "application/vnd.databricks.v1+cell": {
     "cellMetadata": {
      "byteLimit": 2048000,
      "rowLimit": 10000
     },
     "inputWidgets": {},
     "nuid": "18f8e010-2137-477e-b5c2-58c74d6918da",
     "showTitle": false,
     "tableResultSettingsMap": {},
     "title": ""
    }
   },
   "outputs": [
    {
     "output_type": "stream",
     "name": "stdout",
     "output_type": "stream",
     "text": [
      "+---+--------+------+----------+\n| ID|CUSTOMER|AMOUNT| SALE_DATE|\n+---+--------+------+----------+\n|  1|   KAVYA| 567.0|2020-11-26|\n+---+--------+------+----------+\n\n"
     ]
    }
   ],
   "source": [
    "df = spark.read.format(\"snowflake\").options(**options).option(\"dbtable\", \"SALES\").load()\n",
    "df.show()"
   ]
  }
 ],
 "metadata": {
  "application/vnd.databricks.v1+notebook": {
   "computePreferences": null,
   "dashboards": [],
   "environmentMetadata": {
    "base_environment": "",
    "environment_version": "4"
   },
   "inputWidgetPreferences": null,
   "language": "python",
   "notebookMetadata": {
    "pythonIndentUnit": 4
   },
   "notebookName": "snowflake connection",
   "widgets": {}
  },
  "language_info": {
   "name": "python"
  }
 },
 "nbformat": 4,
 "nbformat_minor": 0
}